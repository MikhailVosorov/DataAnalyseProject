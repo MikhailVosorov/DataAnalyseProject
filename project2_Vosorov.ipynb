{
 "cells": [
  {
   "cell_type": "markdown",
   "metadata": {},
   "source": [
    "Есть две таблицы user_data и logs\n",
    "Задачи:\n",
    "1. Какой клиент совершил больше всего успешных операций?\n",
    "2. С какой платформы осуществляется наибольшее количество успешных операций?\n",
    "3. Какую платформу предпочитают премиумные клиенты?\n",
    "4. Визуализируйте распределение возраста клиентов в зависимости от типа клиента (премиум или нет)\n",
    "5. Постройте график распределения числа успешных операций\n",
    "6. Визуализируйте число успешных операций, сделанных на платформе computer, в зависимости от возраста. Клиенты какого возраста      совершили наибольшее количество успешных действий?\n",
    "\n",
    "Описание данных\n",
    "\n",
    "user_data:\n",
    "client – идентификатор пользователя\n",
    "premium – является ли клиент премиум\n",
    "age – возраст\n",
    "\n",
    "logs:\n",
    "client – идентификатор пользователя\n",
    "success – результат (успех - 1, нет - 0)\n",
    "platform – платформа\n",
    "time – время в формате Unix"
   ]
  },
  {
   "cell_type": "code",
   "execution_count": 1,
   "metadata": {},
   "outputs": [],
   "source": [
    "# Импортируем библиотеки и считываем данные\n",
    "import pandas as pd\n",
    "import seaborn as sns\n",
    "import matplotlib.pyplot as plt\n",
    "%matplotlib inline\n",
    "\n",
    "users_data = pd.read_csv(\"/home/jupyter-m-vosorov/shared/homeworks/python_ds_miniprojects/3/user_data.csv\")\n",
    "logs = pd.read_csv(\"/home/jupyter-m-vosorov/shared/homeworks/python_ds_miniprojects/3/logs.csv\")\n",
    "\n",
    "# Обьединяем таблицы для более удобной работы\n",
    "\n",
    "users_logs = users_data.merge(logs, on = \"client\", how = \"inner\")"
   ]
  },
  {
   "cell_type": "code",
   "execution_count": 2,
   "metadata": {},
   "outputs": [
    {
     "data": {
      "text/html": [
       "<div>\n",
       "<style scoped>\n",
       "    .dataframe tbody tr th:only-of-type {\n",
       "        vertical-align: middle;\n",
       "    }\n",
       "\n",
       "    .dataframe tbody tr th {\n",
       "        vertical-align: top;\n",
       "    }\n",
       "\n",
       "    .dataframe thead th {\n",
       "        text-align: right;\n",
       "    }\n",
       "</style>\n",
       "<table border=\"1\" class=\"dataframe\">\n",
       "  <thead>\n",
       "    <tr style=\"text-align: right;\">\n",
       "      <th></th>\n",
       "      <th>client</th>\n",
       "      <th>premium</th>\n",
       "      <th>age</th>\n",
       "      <th>success</th>\n",
       "      <th>platform</th>\n",
       "      <th>time</th>\n",
       "    </tr>\n",
       "  </thead>\n",
       "  <tbody>\n",
       "    <tr>\n",
       "      <th>0</th>\n",
       "      <td>46346</td>\n",
       "      <td>False</td>\n",
       "      <td>58</td>\n",
       "      <td>True</td>\n",
       "      <td>phone</td>\n",
       "      <td>2020-03-29 03:33:59</td>\n",
       "    </tr>\n",
       "    <tr>\n",
       "      <th>1</th>\n",
       "      <td>4391</td>\n",
       "      <td>False</td>\n",
       "      <td>55</td>\n",
       "      <td>False</td>\n",
       "      <td>phone</td>\n",
       "      <td>2020-03-28 15:37:41</td>\n",
       "    </tr>\n",
       "    <tr>\n",
       "      <th>2</th>\n",
       "      <td>27372</td>\n",
       "      <td>False</td>\n",
       "      <td>64</td>\n",
       "      <td>False</td>\n",
       "      <td>phone</td>\n",
       "      <td>2020-03-29 01:40:18</td>\n",
       "    </tr>\n",
       "    <tr>\n",
       "      <th>3</th>\n",
       "      <td>11989</td>\n",
       "      <td>False</td>\n",
       "      <td>44</td>\n",
       "      <td>True</td>\n",
       "      <td>computer</td>\n",
       "      <td>2020-03-28 13:54:58</td>\n",
       "    </tr>\n",
       "    <tr>\n",
       "      <th>4</th>\n",
       "      <td>60664</td>\n",
       "      <td>False</td>\n",
       "      <td>49</td>\n",
       "      <td>True</td>\n",
       "      <td>phone</td>\n",
       "      <td>2020-03-28 14:48:38</td>\n",
       "    </tr>\n",
       "    <tr>\n",
       "      <th>...</th>\n",
       "      <td>...</td>\n",
       "      <td>...</td>\n",
       "      <td>...</td>\n",
       "      <td>...</td>\n",
       "      <td>...</td>\n",
       "      <td>...</td>\n",
       "    </tr>\n",
       "    <tr>\n",
       "      <th>3434</th>\n",
       "      <td>19411</td>\n",
       "      <td>False</td>\n",
       "      <td>29</td>\n",
       "      <td>True</td>\n",
       "      <td>phone</td>\n",
       "      <td>2020-03-28 13:08:22</td>\n",
       "    </tr>\n",
       "    <tr>\n",
       "      <th>3435</th>\n",
       "      <td>61579</td>\n",
       "      <td>False</td>\n",
       "      <td>50</td>\n",
       "      <td>True</td>\n",
       "      <td>phone</td>\n",
       "      <td>2020-03-28 22:55:58</td>\n",
       "    </tr>\n",
       "    <tr>\n",
       "      <th>3436</th>\n",
       "      <td>61221</td>\n",
       "      <td>True</td>\n",
       "      <td>64</td>\n",
       "      <td>True</td>\n",
       "      <td>phone</td>\n",
       "      <td>2020-03-29 00:03:38</td>\n",
       "    </tr>\n",
       "    <tr>\n",
       "      <th>3437</th>\n",
       "      <td>29863</td>\n",
       "      <td>False</td>\n",
       "      <td>46</td>\n",
       "      <td>True</td>\n",
       "      <td>tablet</td>\n",
       "      <td>2020-03-29 00:57:17</td>\n",
       "    </tr>\n",
       "    <tr>\n",
       "      <th>3438</th>\n",
       "      <td>78499</td>\n",
       "      <td>False</td>\n",
       "      <td>36</td>\n",
       "      <td>False</td>\n",
       "      <td>phone</td>\n",
       "      <td>2020-03-28 19:58:03</td>\n",
       "    </tr>\n",
       "  </tbody>\n",
       "</table>\n",
       "<p>3439 rows × 6 columns</p>\n",
       "</div>"
      ],
      "text/plain": [
       "      client  premium  age  success  platform                time\n",
       "0      46346    False   58     True     phone 2020-03-29 03:33:59\n",
       "1       4391    False   55    False     phone 2020-03-28 15:37:41\n",
       "2      27372    False   64    False     phone 2020-03-29 01:40:18\n",
       "3      11989    False   44     True  computer 2020-03-28 13:54:58\n",
       "4      60664    False   49     True     phone 2020-03-28 14:48:38\n",
       "...      ...      ...  ...      ...       ...                 ...\n",
       "3434   19411    False   29     True     phone 2020-03-28 13:08:22\n",
       "3435   61579    False   50     True     phone 2020-03-28 22:55:58\n",
       "3436   61221     True   64     True     phone 2020-03-29 00:03:38\n",
       "3437   29863    False   46     True    tablet 2020-03-29 00:57:17\n",
       "3438   78499    False   36    False     phone 2020-03-28 19:58:03\n",
       "\n",
       "[3439 rows x 6 columns]"
      ]
     },
     "execution_count": 2,
     "metadata": {},
     "output_type": "execute_result"
    }
   ],
   "source": [
    "# Преобразуем время в более удобный для работы вариант\n",
    "users_logs.time =(pd.to_datetime(users_logs.time, unit='s'))\n",
    "users_logs"
   ]
  },
  {
   "cell_type": "code",
   "execution_count": 9,
   "metadata": {},
   "outputs": [
    {
     "data": {
      "text/plain": [
       "[12179, 28719, 36165, 52870, 61468, 61473, 78349, 82563, 92584]"
      ]
     },
     "execution_count": 9,
     "metadata": {},
     "output_type": "execute_result"
    }
   ],
   "source": [
    "# Задача 1: Какой клиент/клиенты совершили больше всего успешных операций?\n",
    "successful_operations_per_user = users_logs \\\n",
    "    .query(\"success == 1\") \\\n",
    "    .groupby(\"client\", as_index = False) \\\n",
    "    .agg({\"success\" : \"count\"}) \\\n",
    "    .sort_values(\"success\", ascending = False) \\\n",
    "    .rename(columns = {\"success\" : \"successful_operations\"}) \\\n",
    "    .query(\"successful_operations == 41\") \\\n",
    "    \n",
    "\n",
    "sorted(successful_operations_per_user[\"client\"].unique())\n",
    "\n",
    "# Идентификаторы пользователей с наибольшим количеством успешных операци"
   ]
  },
  {
   "cell_type": "code",
   "execution_count": 4,
   "metadata": {},
   "outputs": [
    {
     "data": {
      "text/html": [
       "<div>\n",
       "<style scoped>\n",
       "    .dataframe tbody tr th:only-of-type {\n",
       "        vertical-align: middle;\n",
       "    }\n",
       "\n",
       "    .dataframe tbody tr th {\n",
       "        vertical-align: top;\n",
       "    }\n",
       "\n",
       "    .dataframe thead th {\n",
       "        text-align: right;\n",
       "    }\n",
       "</style>\n",
       "<table border=\"1\" class=\"dataframe\">\n",
       "  <thead>\n",
       "    <tr style=\"text-align: right;\">\n",
       "      <th></th>\n",
       "      <th>platform</th>\n",
       "      <th>number_of_operations</th>\n",
       "    </tr>\n",
       "  </thead>\n",
       "  <tbody>\n",
       "    <tr>\n",
       "      <th>0</th>\n",
       "      <td>phone</td>\n",
       "      <td>2117</td>\n",
       "    </tr>\n",
       "    <tr>\n",
       "      <th>1</th>\n",
       "      <td>computer</td>\n",
       "      <td>1140</td>\n",
       "    </tr>\n",
       "    <tr>\n",
       "      <th>2</th>\n",
       "      <td>tablet</td>\n",
       "      <td>182</td>\n",
       "    </tr>\n",
       "  </tbody>\n",
       "</table>\n",
       "</div>"
      ],
      "text/plain": [
       "   platform  number_of_operations\n",
       "0     phone                  2117\n",
       "1  computer                  1140\n",
       "2    tablet                   182"
      ]
     },
     "execution_count": 4,
     "metadata": {},
     "output_type": "execute_result"
    }
   ],
   "source": [
    "# Задача 2: С какой платформы осуществляется наибольшее количество успешных операций? \n",
    "users_logs \\\n",
    "    .platform.value_counts().reset_index() \\\n",
    "    .rename(columns = {\"platform\" : \"number_of_operations\", \"index\" : \"platform\"}) \\\n",
    "    .sort_values(\"number_of_operations\", ascending = False)\n",
    "# Как мы видим больше всего пользователей совершили успешные операции использую платформу phone"
   ]
  },
  {
   "cell_type": "code",
   "execution_count": 10,
   "metadata": {},
   "outputs": [
    {
     "data": {
      "text/html": [
       "<div>\n",
       "<style scoped>\n",
       "    .dataframe tbody tr th:only-of-type {\n",
       "        vertical-align: middle;\n",
       "    }\n",
       "\n",
       "    .dataframe tbody tr th {\n",
       "        vertical-align: top;\n",
       "    }\n",
       "\n",
       "    .dataframe thead th {\n",
       "        text-align: right;\n",
       "    }\n",
       "</style>\n",
       "<table border=\"1\" class=\"dataframe\">\n",
       "  <thead>\n",
       "    <tr style=\"text-align: right;\">\n",
       "      <th></th>\n",
       "      <th>platform</th>\n",
       "      <th>number_of_operations</th>\n",
       "    </tr>\n",
       "  </thead>\n",
       "  <tbody>\n",
       "    <tr>\n",
       "      <th>0</th>\n",
       "      <td>phone</td>\n",
       "      <td>246</td>\n",
       "    </tr>\n",
       "    <tr>\n",
       "      <th>1</th>\n",
       "      <td>computer</td>\n",
       "      <td>150</td>\n",
       "    </tr>\n",
       "    <tr>\n",
       "      <th>2</th>\n",
       "      <td>tablet</td>\n",
       "      <td>24</td>\n",
       "    </tr>\n",
       "  </tbody>\n",
       "</table>\n",
       "</div>"
      ],
      "text/plain": [
       "   platform  number_of_operations\n",
       "0     phone                   246\n",
       "1  computer                   150\n",
       "2    tablet                    24"
      ]
     },
     "execution_count": 10,
     "metadata": {},
     "output_type": "execute_result"
    }
   ],
   "source": [
    "# Задача 3: Какую платформу предпочитают премиумные клиенты?\n",
    "users_logs \\\n",
    "    .query(\"premium == True\") \\\n",
    "    .platform.value_counts().reset_index() \\\n",
    "    .rename(columns = {\"platform\" : \"number_of_operations\", \"index\" : \"platform\"}) \\\n",
    "    .sort_values(\"number_of_operations\", ascending = False)\n",
    "#  Как мы видим больше всего премиумных пользователей совершили успешные операции использую платформу phone"
   ]
  },
  {
   "cell_type": "code",
   "execution_count": 23,
   "metadata": {},
   "outputs": [
    {
     "data": {
      "text/plain": [
       "[Text(0, 0.5, 'Плотность распределения'), Text(0.5, 0, 'Возраст')]"
      ]
     },
     "execution_count": 23,
     "metadata": {},
     "output_type": "execute_result"
    },
    {
     "data": {
      "image/png": "[encoded data removed]",
      "text/plain": [
       "<Figure size 432x288 with 1 Axes>"
      ]
     },
     "metadata": {
      "needs_background": "light"
     },
     "output_type": "display_data"
    }
   ],
   "source": [
    "# Задача 4: Визуализируйте распределение возраста клиентов в зависимости от типа клиента (премиум или нет)\n",
    "sns.histplot(users_logs.query(\"premium == False\").age, kde=True, stat=\"density\", linewidth=0).set(xlabel='Возраст', ylabel='Плотность распределения')\n",
    "sns.histplot(users_logs.query(\"premium == True\").age, kde=True, stat=\"density\", linewidth=0, color = \"red\").set(xlabel='Возраст', ylabel='Плотность распределения')\n",
    "\n",
    "# На этом графике синяя линия и столбцы отвечают за непремиумных пользователей, а красная линия и столбцы - за премиумных"
   ]
  },
  {
   "cell_type": "code",
   "execution_count": 31,
   "metadata": {},
   "outputs": [
    {
     "data": {
      "text/plain": [
       "<matplotlib.axes._subplots.AxesSubplot at 0x7fe2190e9ba8>"
      ]
     },
     "execution_count": 31,
     "metadata": {},
     "output_type": "execute_result"
    },
    {
     "data": {
      "image/png": "[encoded data removed]",
      "text/plain": [
       "<Figure size 432x288 with 1 Axes>"
      ]
     },
     "metadata": {
      "needs_background": "light"
     },
     "output_type": "display_data"
    }
   ],
   "source": [
    "# Задача 5: Постройте график распределения числа успешных операций \n",
    "# x – число успешных операций\n",
    "# y – число клиентов, совершивших столько успешных операций\n",
    "\n",
    "operations_per_numbers_of_clients = users_logs \\\n",
    "                                        .query(\"success == True\") \\\n",
    "                                        .groupby(\"client\", as_index = False) \\\n",
    "                                        .agg({\"success\" : \"count\"}) \\\n",
    "                                        .groupby(\"success\") \\\n",
    "                                        .agg({\"client\" : \"count\"}) \\\n",
    "                                        .reset_index() \\\n",
    "                                        .rename(columns = {\"success\" : \"Число операций\", \"client\" : \"Колличество клиентов\"})\n",
    "sns.barplot(data = operations_per_numbers_of_clients, x = \"Число операций\", y = \"Колличество клиентов\")\n",
    "# Как мы видим бóльшая часть наблюдений сосредоточена в левой части графика, отсюда можно сделать вывод что большинство пользо -\n",
    "# вателей испольют продукт лишь единожды"
   ]
  },
  {
   "cell_type": "code",
   "execution_count": 42,
   "metadata": {},
   "outputs": [
    {
     "data": {
      "text/plain": [
       "<matplotlib.axes._subplots.AxesSubplot at 0x7fe218eb09e8>"
      ]
     },
     "execution_count": 42,
     "metadata": {},
     "output_type": "execute_result"
    },
    {
     "data": {
      "image/png": "[encoded data removed]",
      "text/plain": [
       "<Figure size 864x576 with 1 Axes>"
      ]
     },
     "metadata": {
      "needs_background": "light"
     },
     "output_type": "display_data"
    }
   ],
   "source": [
    "# Задача 6: Визуализируйте число успешных операций, сделанных на платформе computer, в зависимости от возраста. \n",
    "#           Клиенты какого возраста совершили наибольшее количество успешных действий?\n",
    "plt.figure(figsize=(12, 8))\n",
    "computer_platform_per_age = users_logs \\\n",
    "                                .query(\"platform == 'computer' and success == True\") \\\n",
    "                                .groupby(\"age\", as_index = False) \\\n",
    "                                .agg({\"platform\" : \"count\"}) \\\n",
    "                                .rename(columns = {\"age\" : \"Возраст\", \"platform\" : \"Число операций\"})\n",
    "sns.barplot(data = computer_platform_per_age, x = \"Возраст\", y = \"Число операций\")"
   ]
  },
  {
   "cell_type": "code",
   "execution_count": null,
   "metadata": {},
   "outputs": [],
   "source": []
  }
 ],
 "metadata": {
  "kernelspec": {
   "display_name": "Python 3",
   "language": "python",
   "name": "python3"
  },
  "language_info": {
   "codemirror_mode": {
    "name": "ipython",
    "version": 3
   },
   "file_extension": ".py",
   "mimetype": "text/x-python",
   "name": "python",
   "nbconvert_exporter": "python",
   "pygments_lexer": "ipython3",
   "version": "3.7.3"
  }
 },
 "nbformat": 4,
 "nbformat_minor": 4
}
